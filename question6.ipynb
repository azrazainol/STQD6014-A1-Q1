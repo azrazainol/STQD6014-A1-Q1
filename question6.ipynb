{
 "cells": [
  {
   "cell_type": "markdown",
   "id": "7c180e7a",
   "metadata": {},
   "source": [
    "A'zra Zulaikha Binti Zainol\n",
    "P137262\n",
    "STQD6014 Data Science - Assignment 1"
   ]
  },
  {
   "cell_type": "code",
   "execution_count": 1,
   "id": "c7c19c42",
   "metadata": {},
   "outputs": [
    {
     "name": "stdout",
     "output_type": "stream",
     "text": [
      "Year of birth: 2000\n"
     ]
    }
   ],
   "source": [
    "year_of_birth = input(\"Year of birth: \")"
   ]
  },
  {
   "cell_type": "code",
   "execution_count": 2,
   "id": "a765f93d",
   "metadata": {},
   "outputs": [
    {
     "name": "stdout",
     "output_type": "stream",
     "text": [
      "Favourite number: 31\n"
     ]
    }
   ],
   "source": [
    "favourite_number = input(\"Favourite number: \")"
   ]
  },
  {
   "cell_type": "code",
   "execution_count": 3,
   "id": "b0721dbe",
   "metadata": {},
   "outputs": [
    {
     "name": "stdout",
     "output_type": "stream",
     "text": [
      "{'year_of_birth': '2000', 'favourite_number': '31'}\n"
     ]
    }
   ],
   "source": [
    "user_info = {\n",
    "    \"year_of_birth\": year_of_birth,\n",
    "    \"favourite_number\": favourite_number\n",
    "}\n",
    "print(user_info)"
   ]
  },
  {
   "cell_type": "code",
   "execution_count": 4,
   "id": "fc8622a4",
   "metadata": {},
   "outputs": [],
   "source": [
    "import json"
   ]
  },
  {
   "cell_type": "code",
   "execution_count": 5,
   "id": "924951a9",
   "metadata": {},
   "outputs": [],
   "source": [
    "with open(\"user_info.json\", \"w\") as info:\n",
    "    json.dump(user_info, info)"
   ]
  },
  {
   "cell_type": "code",
   "execution_count": 6,
   "id": "72b12248",
   "metadata": {},
   "outputs": [],
   "source": [
    "with open(\"user_info.json\", \"r\") as info:\n",
    "    user_info = json.load(info)"
   ]
  },
  {
   "cell_type": "code",
   "execution_count": 7,
   "id": "c58eb28f",
   "metadata": {},
   "outputs": [
    {
     "name": "stdout",
     "output_type": "stream",
     "text": [
      "My year of birth: 2000\n",
      "My favourite number: 31\n"
     ]
    }
   ],
   "source": [
    "print(\"My year of birth:\", user_info[\"year_of_birth\"])\n",
    "print(\"My favourite number:\", user_info[\"favourite_number\"])"
   ]
  }
 ],
 "metadata": {
  "kernelspec": {
   "display_name": "Python 3 (ipykernel)",
   "language": "python",
   "name": "python3"
  },
  "language_info": {
   "codemirror_mode": {
    "name": "ipython",
    "version": 3
   },
   "file_extension": ".py",
   "mimetype": "text/x-python",
   "name": "python",
   "nbconvert_exporter": "python",
   "pygments_lexer": "ipython3",
   "version": "3.11.5"
  }
 },
 "nbformat": 4,
 "nbformat_minor": 5
}
